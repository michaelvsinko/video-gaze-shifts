{
 "cells": [
  {
   "cell_type": "code",
   "execution_count": null,
   "metadata": {},
   "outputs": [],
   "source": [
    "import sys\n",
    "\n",
    "sys.path.insert(0, \"../\")"
   ]
  },
  {
   "cell_type": "code",
   "execution_count": null,
   "metadata": {},
   "outputs": [],
   "source": [
    "import json\n",
    "\n",
    "from video_gaze_shifts.runner import GazeRunner\n",
    "from video_gaze_shifts.shift_estimator import tags_to_stats"
   ]
  },
  {
   "cell_type": "code",
   "execution_count": null,
   "metadata": {},
   "outputs": [],
   "source": [
    "runner = GazeRunner()\n",
    "\n",
    "tags = []\n",
    "for pitch, yaw, tag in runner.forward(\n",
    "    path=\"./input_1.mp4\",\n",
    "    mode=\"video\",\n",
    "    output_path=\"./output_1.mp4\",\n",
    "    visualize=True,\n",
    "):\n",
    "    tags.append(tag)\n",
    "\n",
    "stats = tags_to_stats(tags=tags)\n",
    "\n",
    "with open(\"./output_1.json\", \"w\") as f:\n",
    "    json.dump(stats, f, indent=4)"
   ]
  },
  {
   "cell_type": "code",
   "execution_count": null,
   "metadata": {},
   "outputs": [],
   "source": [
    "from IPython.display import HTML\n",
    "from base64 import b64encode\n",
    "\n",
    "HTML(f\"\"\"\n",
    "<video height=400 controls>\n",
    "  <source src=\"data:video/mp4;base64,{b64encode(open('output_1.mp4','rb').read()).decode()}\" type=\"video/mp4\">\n",
    "</video>\n",
    "\"\"\")"
   ]
  },
  {
   "cell_type": "code",
   "execution_count": null,
   "metadata": {},
   "outputs": [],
   "source": []
  }
 ],
 "metadata": {
  "interpreter": {
   "hash": "e41626376c49741ab85df40fdf91581b6ec86d4155432107ab3727951fdde146"
  },
  "kernelspec": {
   "display_name": "Python 3.9.5 64-bit ('.venv': poetry)",
   "language": "python",
   "name": "python3"
  },
  "language_info": {
   "codemirror_mode": {
    "name": "ipython",
    "version": 3
   },
   "file_extension": ".py",
   "mimetype": "text/x-python",
   "name": "python",
   "nbconvert_exporter": "python",
   "pygments_lexer": "ipython3",
   "version": "3.9.5"
  },
  "orig_nbformat": 4
 },
 "nbformat": 4,
 "nbformat_minor": 2
}
